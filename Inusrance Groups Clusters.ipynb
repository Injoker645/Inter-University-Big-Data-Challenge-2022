{
 "cells": [
  {
   "cell_type": "markdown",
   "id": "3169ac52",
   "metadata": {},
   "source": [
    "## Importing Libraries"
   ]
  },
  {
   "cell_type": "code",
   "execution_count": 23,
   "id": "5421bc40",
   "metadata": {},
   "outputs": [],
   "source": [
    "import pandas as pd\n",
    "import numpy as np\n",
    "import visualization\n",
    "import matplotlib.pyplot as plt\n",
    "from sklearn.preprocessing import OneHotEncoder\n",
    "from sklearn.mixture import GaussianMixture"
   ]
  },
  {
   "cell_type": "code",
   "execution_count": 24,
   "id": "ef710841",
   "metadata": {},
   "outputs": [],
   "source": [
    "df = pd.read_csv(\"insurance.csv\")"
   ]
  },
  {
   "cell_type": "code",
   "execution_count": 25,
   "id": "a2c753fc",
   "metadata": {},
   "outputs": [
    {
     "data": {
      "text/html": [
       "<div>\n",
       "<style scoped>\n",
       "    .dataframe tbody tr th:only-of-type {\n",
       "        vertical-align: middle;\n",
       "    }\n",
       "\n",
       "    .dataframe tbody tr th {\n",
       "        vertical-align: top;\n",
       "    }\n",
       "\n",
       "    .dataframe thead th {\n",
       "        text-align: right;\n",
       "    }\n",
       "</style>\n",
       "<table border=\"1\" class=\"dataframe\">\n",
       "  <thead>\n",
       "    <tr style=\"text-align: right;\">\n",
       "      <th></th>\n",
       "      <th>age</th>\n",
       "      <th>sex</th>\n",
       "      <th>bmi</th>\n",
       "      <th>children</th>\n",
       "      <th>smoker</th>\n",
       "      <th>region</th>\n",
       "      <th>charges</th>\n",
       "    </tr>\n",
       "  </thead>\n",
       "  <tbody>\n",
       "    <tr>\n",
       "      <th>0</th>\n",
       "      <td>19</td>\n",
       "      <td>female</td>\n",
       "      <td>27.900</td>\n",
       "      <td>0</td>\n",
       "      <td>yes</td>\n",
       "      <td>southwest</td>\n",
       "      <td>16884.92400</td>\n",
       "    </tr>\n",
       "    <tr>\n",
       "      <th>1</th>\n",
       "      <td>18</td>\n",
       "      <td>male</td>\n",
       "      <td>33.770</td>\n",
       "      <td>1</td>\n",
       "      <td>no</td>\n",
       "      <td>southeast</td>\n",
       "      <td>1725.55230</td>\n",
       "    </tr>\n",
       "    <tr>\n",
       "      <th>2</th>\n",
       "      <td>28</td>\n",
       "      <td>male</td>\n",
       "      <td>33.000</td>\n",
       "      <td>3</td>\n",
       "      <td>no</td>\n",
       "      <td>southeast</td>\n",
       "      <td>4449.46200</td>\n",
       "    </tr>\n",
       "    <tr>\n",
       "      <th>3</th>\n",
       "      <td>33</td>\n",
       "      <td>male</td>\n",
       "      <td>22.705</td>\n",
       "      <td>0</td>\n",
       "      <td>no</td>\n",
       "      <td>northwest</td>\n",
       "      <td>21984.47061</td>\n",
       "    </tr>\n",
       "    <tr>\n",
       "      <th>4</th>\n",
       "      <td>32</td>\n",
       "      <td>male</td>\n",
       "      <td>28.880</td>\n",
       "      <td>0</td>\n",
       "      <td>no</td>\n",
       "      <td>northwest</td>\n",
       "      <td>3866.85520</td>\n",
       "    </tr>\n",
       "    <tr>\n",
       "      <th>...</th>\n",
       "      <td>...</td>\n",
       "      <td>...</td>\n",
       "      <td>...</td>\n",
       "      <td>...</td>\n",
       "      <td>...</td>\n",
       "      <td>...</td>\n",
       "      <td>...</td>\n",
       "    </tr>\n",
       "    <tr>\n",
       "      <th>1333</th>\n",
       "      <td>50</td>\n",
       "      <td>male</td>\n",
       "      <td>30.970</td>\n",
       "      <td>3</td>\n",
       "      <td>no</td>\n",
       "      <td>northwest</td>\n",
       "      <td>10600.54830</td>\n",
       "    </tr>\n",
       "    <tr>\n",
       "      <th>1334</th>\n",
       "      <td>18</td>\n",
       "      <td>female</td>\n",
       "      <td>31.920</td>\n",
       "      <td>0</td>\n",
       "      <td>no</td>\n",
       "      <td>northeast</td>\n",
       "      <td>2205.98080</td>\n",
       "    </tr>\n",
       "    <tr>\n",
       "      <th>1335</th>\n",
       "      <td>18</td>\n",
       "      <td>female</td>\n",
       "      <td>36.850</td>\n",
       "      <td>0</td>\n",
       "      <td>no</td>\n",
       "      <td>southeast</td>\n",
       "      <td>1629.83350</td>\n",
       "    </tr>\n",
       "    <tr>\n",
       "      <th>1336</th>\n",
       "      <td>21</td>\n",
       "      <td>female</td>\n",
       "      <td>25.800</td>\n",
       "      <td>0</td>\n",
       "      <td>no</td>\n",
       "      <td>southwest</td>\n",
       "      <td>2007.94500</td>\n",
       "    </tr>\n",
       "    <tr>\n",
       "      <th>1337</th>\n",
       "      <td>61</td>\n",
       "      <td>female</td>\n",
       "      <td>29.070</td>\n",
       "      <td>0</td>\n",
       "      <td>yes</td>\n",
       "      <td>northwest</td>\n",
       "      <td>29141.36030</td>\n",
       "    </tr>\n",
       "  </tbody>\n",
       "</table>\n",
       "<p>1338 rows × 7 columns</p>\n",
       "</div>"
      ],
      "text/plain": [
       "      age     sex     bmi  children smoker     region      charges\n",
       "0      19  female  27.900         0    yes  southwest  16884.92400\n",
       "1      18    male  33.770         1     no  southeast   1725.55230\n",
       "2      28    male  33.000         3     no  southeast   4449.46200\n",
       "3      33    male  22.705         0     no  northwest  21984.47061\n",
       "4      32    male  28.880         0     no  northwest   3866.85520\n",
       "...   ...     ...     ...       ...    ...        ...          ...\n",
       "1333   50    male  30.970         3     no  northwest  10600.54830\n",
       "1334   18  female  31.920         0     no  northeast   2205.98080\n",
       "1335   18  female  36.850         0     no  southeast   1629.83350\n",
       "1336   21  female  25.800         0     no  southwest   2007.94500\n",
       "1337   61  female  29.070         0    yes  northwest  29141.36030\n",
       "\n",
       "[1338 rows x 7 columns]"
      ]
     },
     "execution_count": 25,
     "metadata": {},
     "output_type": "execute_result"
    }
   ],
   "source": [
    "df"
   ]
  },
  {
   "cell_type": "markdown",
   "id": "f7f0b8f4",
   "metadata": {},
   "source": [
    "##  Converting Categorical Data Using Encoding"
   ]
  },
  {
   "cell_type": "code",
   "execution_count": 26,
   "id": "a2e8a7a3",
   "metadata": {},
   "outputs": [],
   "source": [
    "df['sex'].replace(['female', 'male'], [0, 1], inplace=True)\n",
    "df['smoker'].replace(['no', 'yes'], [0, 1], inplace=True)\n",
    "df['region'].replace(['northeast', 'northwest', 'southeast', 'southwest'], [0, 1, 2, 3], inplace=True)"
   ]
  },
  {
   "cell_type": "code",
   "execution_count": 27,
   "id": "d22f5ec8",
   "metadata": {},
   "outputs": [
    {
     "data": {
      "text/html": [
       "<div>\n",
       "<style scoped>\n",
       "    .dataframe tbody tr th:only-of-type {\n",
       "        vertical-align: middle;\n",
       "    }\n",
       "\n",
       "    .dataframe tbody tr th {\n",
       "        vertical-align: top;\n",
       "    }\n",
       "\n",
       "    .dataframe thead th {\n",
       "        text-align: right;\n",
       "    }\n",
       "</style>\n",
       "<table border=\"1\" class=\"dataframe\">\n",
       "  <thead>\n",
       "    <tr style=\"text-align: right;\">\n",
       "      <th></th>\n",
       "      <th>age</th>\n",
       "      <th>sex</th>\n",
       "      <th>bmi</th>\n",
       "      <th>children</th>\n",
       "      <th>smoker</th>\n",
       "      <th>region</th>\n",
       "      <th>charges</th>\n",
       "    </tr>\n",
       "  </thead>\n",
       "  <tbody>\n",
       "    <tr>\n",
       "      <th>0</th>\n",
       "      <td>19</td>\n",
       "      <td>0</td>\n",
       "      <td>27.900</td>\n",
       "      <td>0</td>\n",
       "      <td>1</td>\n",
       "      <td>3</td>\n",
       "      <td>16884.92400</td>\n",
       "    </tr>\n",
       "    <tr>\n",
       "      <th>1</th>\n",
       "      <td>18</td>\n",
       "      <td>1</td>\n",
       "      <td>33.770</td>\n",
       "      <td>1</td>\n",
       "      <td>0</td>\n",
       "      <td>2</td>\n",
       "      <td>1725.55230</td>\n",
       "    </tr>\n",
       "    <tr>\n",
       "      <th>2</th>\n",
       "      <td>28</td>\n",
       "      <td>1</td>\n",
       "      <td>33.000</td>\n",
       "      <td>3</td>\n",
       "      <td>0</td>\n",
       "      <td>2</td>\n",
       "      <td>4449.46200</td>\n",
       "    </tr>\n",
       "    <tr>\n",
       "      <th>3</th>\n",
       "      <td>33</td>\n",
       "      <td>1</td>\n",
       "      <td>22.705</td>\n",
       "      <td>0</td>\n",
       "      <td>0</td>\n",
       "      <td>1</td>\n",
       "      <td>21984.47061</td>\n",
       "    </tr>\n",
       "    <tr>\n",
       "      <th>4</th>\n",
       "      <td>32</td>\n",
       "      <td>1</td>\n",
       "      <td>28.880</td>\n",
       "      <td>0</td>\n",
       "      <td>0</td>\n",
       "      <td>1</td>\n",
       "      <td>3866.85520</td>\n",
       "    </tr>\n",
       "    <tr>\n",
       "      <th>...</th>\n",
       "      <td>...</td>\n",
       "      <td>...</td>\n",
       "      <td>...</td>\n",
       "      <td>...</td>\n",
       "      <td>...</td>\n",
       "      <td>...</td>\n",
       "      <td>...</td>\n",
       "    </tr>\n",
       "    <tr>\n",
       "      <th>1333</th>\n",
       "      <td>50</td>\n",
       "      <td>1</td>\n",
       "      <td>30.970</td>\n",
       "      <td>3</td>\n",
       "      <td>0</td>\n",
       "      <td>1</td>\n",
       "      <td>10600.54830</td>\n",
       "    </tr>\n",
       "    <tr>\n",
       "      <th>1334</th>\n",
       "      <td>18</td>\n",
       "      <td>0</td>\n",
       "      <td>31.920</td>\n",
       "      <td>0</td>\n",
       "      <td>0</td>\n",
       "      <td>0</td>\n",
       "      <td>2205.98080</td>\n",
       "    </tr>\n",
       "    <tr>\n",
       "      <th>1335</th>\n",
       "      <td>18</td>\n",
       "      <td>0</td>\n",
       "      <td>36.850</td>\n",
       "      <td>0</td>\n",
       "      <td>0</td>\n",
       "      <td>2</td>\n",
       "      <td>1629.83350</td>\n",
       "    </tr>\n",
       "    <tr>\n",
       "      <th>1336</th>\n",
       "      <td>21</td>\n",
       "      <td>0</td>\n",
       "      <td>25.800</td>\n",
       "      <td>0</td>\n",
       "      <td>0</td>\n",
       "      <td>3</td>\n",
       "      <td>2007.94500</td>\n",
       "    </tr>\n",
       "    <tr>\n",
       "      <th>1337</th>\n",
       "      <td>61</td>\n",
       "      <td>0</td>\n",
       "      <td>29.070</td>\n",
       "      <td>0</td>\n",
       "      <td>1</td>\n",
       "      <td>1</td>\n",
       "      <td>29141.36030</td>\n",
       "    </tr>\n",
       "  </tbody>\n",
       "</table>\n",
       "<p>1338 rows × 7 columns</p>\n",
       "</div>"
      ],
      "text/plain": [
       "      age  sex     bmi  children  smoker  region      charges\n",
       "0      19    0  27.900         0       1       3  16884.92400\n",
       "1      18    1  33.770         1       0       2   1725.55230\n",
       "2      28    1  33.000         3       0       2   4449.46200\n",
       "3      33    1  22.705         0       0       1  21984.47061\n",
       "4      32    1  28.880         0       0       1   3866.85520\n",
       "...   ...  ...     ...       ...     ...     ...          ...\n",
       "1333   50    1  30.970         3       0       1  10600.54830\n",
       "1334   18    0  31.920         0       0       0   2205.98080\n",
       "1335   18    0  36.850         0       0       2   1629.83350\n",
       "1336   21    0  25.800         0       0       3   2007.94500\n",
       "1337   61    0  29.070         0       1       1  29141.36030\n",
       "\n",
       "[1338 rows x 7 columns]"
      ]
     },
     "execution_count": 27,
     "metadata": {},
     "output_type": "execute_result"
    }
   ],
   "source": [
    "df"
   ]
  },
  {
   "cell_type": "markdown",
   "id": "ca83ffbd",
   "metadata": {},
   "source": [
    "## Preparing Model"
   ]
  },
  {
   "cell_type": "code",
   "execution_count": 28,
   "id": "6af7e6f2",
   "metadata": {},
   "outputs": [],
   "source": [
    "from cycler import cycler\n",
    "\n",
    "# get colormap\n",
    "cmap=plt.cm.gist_rainbow\n",
    "# build cycler with 5 equally spaced colors from that colormap\n",
    "c = cycler('color', cmap(np.linspace(0,1,5)) )\n",
    "# supply cycler to the rcParam\n",
    "plt.rcParams[\"axes.prop_cycle\"] = c"
   ]
  },
  {
   "cell_type": "markdown",
   "id": "2cabb136",
   "metadata": {},
   "source": [
    "## Sex vs Charges"
   ]
  },
  {
   "cell_type": "code",
   "execution_count": 39,
   "id": "a6404c7b",
   "metadata": {},
   "outputs": [
    {
     "data": {
      "image/png": "[encoded data removed]",
      "text/plain": [
       "<Figure size 432x288 with 1 Axes>"
      ]
     },
     "metadata": {
      "needs_background": "light"
     },
     "output_type": "display_data"
    },
    {
     "data": {
      "text/plain": [
       "<Figure size 144x144 with 0 Axes>"
      ]
     },
     "metadata": {},
     "output_type": "display_data"
    }
   ],
   "source": [
    "sex_charges = df[['sex', 'charges']]\n",
    "\n",
    "gmm = GaussianMixture(n_components = 2)\n",
    "gmm.fit(sex_charges)\n",
    "\n",
    "#predictions from gmm\n",
    "labels = gmm.predict(sex_charges)\n",
    "sex_frame = pd.DataFrame(sex_charges)\n",
    "sex_frame['cluster'] = labels\n",
    "sex_frame.columns = ['sex', 'charges', 'cluster']\n",
    "\n",
    "for k in range(0,2):\n",
    "    age_charges = sex_frame[sex_frame[\"cluster\"]==k]\n",
    "    plt.scatter(sex_charges[\"sex\"],sex_charges[\"charges\"])\n",
    "plt.title('Sex vs Charges', fontdict={'fontsize':22})\n",
    "plt.xlabel('Sex', fontsize=16)\n",
    "plt.ylabel('Charges', fontsize=16)\n",
    "plt.figure(figsize=(2, 2))\n",
    "plt.show()"
   ]
  },
  {
   "cell_type": "markdown",
   "id": "699024e3",
   "metadata": {},
   "source": [
    "## Smoker vs Charges"
   ]
  },
  {
   "cell_type": "code",
   "execution_count": 34,
   "id": "4a0e9c8c",
   "metadata": {},
   "outputs": [
    {
     "data": {
      "image/png": "[encoded data removed]",
      "text/plain": [
       "<Figure size 432x288 with 1 Axes>"
      ]
     },
     "metadata": {
      "needs_background": "light"
     },
     "output_type": "display_data"
    },
    {
     "data": {
      "text/plain": [
       "<Figure size 144x144 with 0 Axes>"
      ]
     },
     "metadata": {},
     "output_type": "display_data"
    }
   ],
   "source": [
    "smoker_charges = df[['smoker', 'charges']]\n",
    "\n",
    "gmm = GaussianMixture(n_components = 2)\n",
    "gmm.fit(smoker_charges)\n",
    "\n",
    "#predictions from gmm\n",
    "labels = gmm.predict(smoker_charges)\n",
    "smoker_frame = pd.DataFrame(smoker_charges)\n",
    "smoker_frame['cluster'] = labels\n",
    "smoker_frame.columns = ['smoker', 'charges', 'cluster']\n",
    "\n",
    "for k in range(0,2):\n",
    "    smoker_charges = smoker_frame[smoker_frame[\"cluster\"]==k]\n",
    "    plt.scatter(smoker_charges[\"smoker\"],smoker_charges[\"charges\"])\n",
    "plt.title('smoker vs Charges', fontdict={'fontsize':22})\n",
    "plt.xlabel('smoker', fontsize=16)\n",
    "plt.ylabel('Charges', fontsize=16)\n",
    "plt.figure(figsize=(2, 2))\n",
    "plt.show()"
   ]
  },
  {
   "cell_type": "markdown",
   "id": "2a3e9763",
   "metadata": {},
   "source": [
    "## Region vs Charges"
   ]
  },
  {
   "cell_type": "code",
   "execution_count": 148,
   "id": "592048fe",
   "metadata": {},
   "outputs": [
    {
     "data": {
      "image/png": "[encoded data removed]",
      "text/plain": [
       "<Figure size 432x288 with 1 Axes>"
      ]
     },
     "metadata": {
      "needs_background": "light"
     },
     "output_type": "display_data"
    },
    {
     "data": {
      "text/plain": [
       "<Figure size 144x144 with 0 Axes>"
      ]
     },
     "metadata": {},
     "output_type": "display_data"
    }
   ],
   "source": [
    "region_charges = df[['region', 'charges']]\n",
    "\n",
    "gmm = GaussianMixture(n_components = 4)\n",
    "gmm.fit(region_charges)\n",
    "\n",
    "#predictions from gmm\n",
    "labels = gmm.predict(region_charges)\n",
    "region_frame = pd.DataFrame(region_charges)\n",
    "region_frame['cluster'] = labels\n",
    "region_frame.columns = ['region', 'charges', 'cluster']\n",
    "\n",
    "for k in range(0,4):\n",
    "    region_charges = region_frame[region_frame[\"cluster\"]==k]\n",
    "    plt.scatter(region_charges[\"region\"],region_charges[\"charges\"])\n",
    "plt.title('Region vs Charges', fontdict={'fontsize':22})\n",
    "plt.xlabel('Region', fontsize=16)\n",
    "plt.ylabel('Charges', fontsize=16)\n",
    "plt.figure(figsize=(2, 2))\n",
    "plt.show()"
   ]
  },
  {
   "cell_type": "code",
   "execution_count": 180,
   "id": "723eac71",
   "metadata": {},
   "outputs": [],
   "source": [
    "rv_cluster_a = region_frame[region_frame['cluster'] == 0]\n",
    "rv_cluster_b = region_frame[region_frame['cluster'] == 3]\n",
    "rv_cluster_c = region_frame[region_frame['cluster'] == 1]\n",
    "rv_cluster_d = region_frame[region_frame['cluster'] == 2]"
   ]
  },
  {
   "cell_type": "code",
   "execution_count": 181,
   "id": "8b420455",
   "metadata": {},
   "outputs": [
    {
     "name": "stdout",
     "output_type": "stream",
     "text": [
      "           region       charges  cluster\n",
      "count  162.000000    162.000000    162.0\n",
      "mean     1.617284  40761.308558      0.0\n",
      "std      1.064012   6165.955587      0.0\n",
      "min      0.000000  30063.580550      0.0\n",
      "25%      1.000000  36203.125612      0.0\n",
      "50%      2.000000  39854.111650      0.0\n",
      "75%      2.000000  44481.999400      0.0\n",
      "max      3.000000  63770.428010      0.0\n",
      "\n",
      "           region       charges  cluster\n",
      "count  183.000000    183.000000    183.0\n",
      "mean     1.409836  21752.752456      3.0\n",
      "std      1.064570   3676.609480      0.0\n",
      "min      0.000000  15820.699000      3.0\n",
      "25%      0.000000  18822.424565      3.0\n",
      "50%      1.000000  21223.675800      3.0\n",
      "75%      2.000000  24569.373460      3.0\n",
      "max      3.000000  29523.165600      3.0\n",
      "\n",
      "           region       charges  cluster\n",
      "count  462.000000    462.000000    462.0\n",
      "mean     1.504329  10893.170137      1.0\n",
      "std      1.157351   2176.258378      0.0\n",
      "min      0.000000   7147.105000      1.0\n",
      "25%      0.000000   8980.678513      1.0\n",
      "50%      1.000000  10836.694000      1.0\n",
      "75%      3.000000  12569.938075      1.0\n",
      "max      3.000000  16138.762050      1.0\n",
      "\n",
      "           region      charges  cluster\n",
      "count  531.000000   531.000000    531.0\n",
      "mean     1.531073  4028.426934      2.0\n",
      "std      1.083528  1814.768517      0.0\n",
      "min      0.000000  1121.873900      2.0\n",
      "25%      1.000000  2327.070400      2.0\n",
      "50%      2.000000  3981.976800      2.0\n",
      "75%      2.000000  5463.526525      2.0\n",
      "max      3.000000  7448.403950      2.0\n",
      "\n"
     ]
    }
   ],
   "source": [
    "print(rv_cluster_a.describe(), end = '\\n\\n')\n",
    "print(rv_cluster_b.describe(), end = '\\n\\n')\n",
    "print(rv_cluster_c.describe(), end = '\\n\\n')\n",
    "print(rv_cluster_d.describe(), end = '\\n\\n')"
   ]
  },
  {
   "cell_type": "code",
   "execution_count": 182,
   "id": "0ba0c761",
   "metadata": {},
   "outputs": [],
   "source": [
    "rv_clusters = [rv_cluster_a, rv_cluster_b, rv_cluster_c, rv_cluster_d]"
   ]
  },
  {
   "cell_type": "code",
   "execution_count": 183,
   "id": "7f755409",
   "metadata": {},
   "outputs": [
    {
     "data": {
      "image/png": "[encoded data removed]",
      "text/plain": [
       "<Figure size 432x288 with 1 Axes>"
      ]
     },
     "metadata": {
      "needs_background": "light"
     },
     "output_type": "display_data"
    }
   ],
   "source": [
    "plt.bar(['A','B','C','D'], [x.mean()['charges'] for x in rv_clusters], color = ['lightblue', 'lightgreen', 'pink', 'yellow'])\n",
    "plt.title(\"Mean Charge of Each Category\");"
   ]
  },
  {
   "cell_type": "code",
   "execution_count": 184,
   "id": "6d2ed155",
   "metadata": {},
   "outputs": [
    {
     "data": {
      "image/png": "[encoded data removed]",
      "text/plain": [
       "<Figure size 432x288 with 1 Axes>"
      ]
     },
     "metadata": {
      "needs_background": "light"
     },
     "output_type": "display_data"
    }
   ],
   "source": [
    "plt.bar(['A','B','C','D'], [x.std()['charges'] for x in rv_clusters], color = ['lightblue', 'lightgreen', 'pink', 'yellow'])\n",
    "plt.title(\"Standard Deviation of Each Category's Charges\");"
   ]
  },
  {
   "cell_type": "markdown",
   "id": "501a1034",
   "metadata": {},
   "source": [
    "### Groups A and B have a quarter as many people as groups C and D. Keeping this in mind before we perform any analysis. It's clear the disparity in costs from the first bar plot of mean costs. The standard deviation seems to go in order too. However that's because of the higher values of the data, not because of any variation"
   ]
  },
  {
   "cell_type": "code",
   "execution_count": 185,
   "id": "2a4c0860",
   "metadata": {},
   "outputs": [
    {
     "data": {
      "image/png": "[encoded data removed]",
      "text/plain": [
       "<Figure size 432x288 with 1 Axes>"
      ]
     },
     "metadata": {
      "needs_background": "light"
     },
     "output_type": "display_data"
    }
   ],
   "source": [
    "plt.bar(['A','B','C','D'], [x.std()['charges']/x.mean()['charges'] for x in rv_clusters], color = ['lightblue', 'lightgreen', 'pink', 'yellow'])\n",
    "plt.title(\"Standard Deviation of Each Category's Charges adjusted for mean\");"
   ]
  },
  {
   "cell_type": "markdown",
   "id": "a2082288",
   "metadata": {},
   "source": [
    "### In reality it's the opposite.\n",
    "\n",
    "### Moving on from the statistics, let's try and add a third dimension to our clusters"
   ]
  },
  {
   "cell_type": "code",
   "execution_count": 186,
   "id": "8890c4e3",
   "metadata": {},
   "outputs": [],
   "source": [
    "regionA_frame = df.loc[rv_cluster_a.index]\n",
    "regionB_frame = df.loc[rv_cluster_b.index]\n",
    "regionC_frame = df.loc[rv_cluster_c.index]\n",
    "regionD_frame = df.loc[rv_cluster_d.index]\n",
    "region_frames = [regionA_frame, regionB_frame, regionC_frame, regionD_frame]"
   ]
  },
  {
   "cell_type": "code",
   "execution_count": 187,
   "id": "34bc05ac",
   "metadata": {},
   "outputs": [
    {
     "name": "stdout",
     "output_type": "stream",
     "text": [
      "___Group___\n",
      "age: 0.4608787541768041\n",
      "sex: -0.06923142102492211\n",
      "bmi: 0.4473862261998677\n",
      "children: 0.03195615545325037\n",
      "smoker: 0.3379367977969537\n",
      "region: 0.06553424012954841\n",
      "charges: 1.0\n",
      "___Group___\n",
      "age: 0.6247956652795883\n",
      "sex: -0.06842258809796326\n",
      "bmi: 0.10864872191665333\n",
      "children: -0.08140417709092194\n",
      "smoker: -0.17732505527663098\n",
      "region: -0.12417042234687167\n",
      "charges: 1.0\n",
      "___Group___\n",
      "age: 0.34844197429738427\n",
      "sex: -0.0658552824858574\n",
      "bmi: -0.023767984470426582\n",
      "children: -0.1515710600415206\n",
      "smoker: 0.305799834322545\n",
      "region: -0.17236917444349517\n",
      "charges: 1.0\n",
      "___Group___\n",
      "age: 0.9122599862262281\n",
      "sex: -0.08357135280724105\n",
      "bmi: 0.018937208748950624\n",
      "children: 0.5084730801286563\n",
      "smoker: nan\n",
      "region: -0.11208349096106594\n",
      "charges: 1.0\n"
     ]
    }
   ],
   "source": [
    "for w in region_frames:\n",
    "    print(\"___Group___\")\n",
    "    for x in list(w.columns):\n",
    "        print(x + \": \" + str(w['charges'].corr(w[x])))"
   ]
  },
  {
   "cell_type": "markdown",
   "id": "99fe45c8",
   "metadata": {},
   "source": [
    "### Group A: No significant relationships\n",
    "### Group B: Age might be interesting\n",
    "### Group C: Nothing of interest\n",
    "### Group D: Age is a defining feature of cost. Also no smokers in region D?"
   ]
  },
  {
   "cell_type": "code",
   "execution_count": 188,
   "id": "4b9c1986",
   "metadata": {},
   "outputs": [
    {
     "data": {
      "text/plain": [
       "{0}"
      ]
     },
     "execution_count": 188,
     "metadata": {},
     "output_type": "execute_result"
    }
   ],
   "source": [
    "set(regionD_frame['smoker'])"
   ]
  },
  {
   "cell_type": "code",
   "execution_count": 189,
   "id": "1387146f",
   "metadata": {},
   "outputs": [
    {
     "data": {
      "text/plain": [
       "count    531.000000\n",
       "mean      28.483992\n",
       "std        7.756022\n",
       "min       18.000000\n",
       "25%       21.000000\n",
       "50%       28.000000\n",
       "75%       35.000000\n",
       "max       45.000000\n",
       "Name: age, dtype: float64"
      ]
     },
     "execution_count": 189,
     "metadata": {},
     "output_type": "execute_result"
    }
   ],
   "source": [
    "regionD_frame.age.describe()"
   ]
  },
  {
   "cell_type": "code",
   "execution_count": 174,
   "id": "75d304e1",
   "metadata": {},
   "outputs": [
    {
     "data": {
      "text/plain": [
       "64"
      ]
     },
     "execution_count": 174,
     "metadata": {},
     "output_type": "execute_result"
    }
   ],
   "source": [
    "df.age.max()"
   ]
  },
  {
   "cell_type": "code",
   "execution_count": 175,
   "id": "7cdc505d",
   "metadata": {},
   "outputs": [
    {
     "data": {
      "text/html": [
       "<div>\n",
       "<style scoped>\n",
       "    .dataframe tbody tr th:only-of-type {\n",
       "        vertical-align: middle;\n",
       "    }\n",
       "\n",
       "    .dataframe tbody tr th {\n",
       "        vertical-align: top;\n",
       "    }\n",
       "\n",
       "    .dataframe thead th {\n",
       "        text-align: right;\n",
       "    }\n",
       "</style>\n",
       "<table border=\"1\" class=\"dataframe\">\n",
       "  <thead>\n",
       "    <tr style=\"text-align: right;\">\n",
       "      <th></th>\n",
       "      <th>age</th>\n",
       "      <th>sex</th>\n",
       "      <th>bmi</th>\n",
       "      <th>children</th>\n",
       "      <th>smoker</th>\n",
       "      <th>region</th>\n",
       "      <th>charges</th>\n",
       "    </tr>\n",
       "  </thead>\n",
       "  <tbody>\n",
       "    <tr>\n",
       "      <th>0</th>\n",
       "      <td>19</td>\n",
       "      <td>0</td>\n",
       "      <td>27.900</td>\n",
       "      <td>0</td>\n",
       "      <td>1</td>\n",
       "      <td>3</td>\n",
       "      <td>16884.92400</td>\n",
       "    </tr>\n",
       "    <tr>\n",
       "      <th>3</th>\n",
       "      <td>33</td>\n",
       "      <td>1</td>\n",
       "      <td>22.705</td>\n",
       "      <td>0</td>\n",
       "      <td>0</td>\n",
       "      <td>1</td>\n",
       "      <td>21984.47061</td>\n",
       "    </tr>\n",
       "    <tr>\n",
       "      <th>9</th>\n",
       "      <td>60</td>\n",
       "      <td>0</td>\n",
       "      <td>25.840</td>\n",
       "      <td>0</td>\n",
       "      <td>0</td>\n",
       "      <td>1</td>\n",
       "      <td>28923.13692</td>\n",
       "    </tr>\n",
       "    <tr>\n",
       "      <th>11</th>\n",
       "      <td>62</td>\n",
       "      <td>0</td>\n",
       "      <td>26.290</td>\n",
       "      <td>0</td>\n",
       "      <td>1</td>\n",
       "      <td>2</td>\n",
       "      <td>27808.72510</td>\n",
       "    </tr>\n",
       "    <tr>\n",
       "      <th>45</th>\n",
       "      <td>55</td>\n",
       "      <td>1</td>\n",
       "      <td>37.300</td>\n",
       "      <td>0</td>\n",
       "      <td>0</td>\n",
       "      <td>3</td>\n",
       "      <td>20630.28351</td>\n",
       "    </tr>\n",
       "    <tr>\n",
       "      <th>...</th>\n",
       "      <td>...</td>\n",
       "      <td>...</td>\n",
       "      <td>...</td>\n",
       "      <td>...</td>\n",
       "      <td>...</td>\n",
       "      <td>...</td>\n",
       "      <td>...</td>\n",
       "    </tr>\n",
       "    <tr>\n",
       "      <th>1314</th>\n",
       "      <td>30</td>\n",
       "      <td>0</td>\n",
       "      <td>23.655</td>\n",
       "      <td>3</td>\n",
       "      <td>1</td>\n",
       "      <td>1</td>\n",
       "      <td>18765.87545</td>\n",
       "    </tr>\n",
       "    <tr>\n",
       "      <th>1318</th>\n",
       "      <td>35</td>\n",
       "      <td>1</td>\n",
       "      <td>39.710</td>\n",
       "      <td>4</td>\n",
       "      <td>0</td>\n",
       "      <td>0</td>\n",
       "      <td>19496.71917</td>\n",
       "    </tr>\n",
       "    <tr>\n",
       "      <th>1321</th>\n",
       "      <td>62</td>\n",
       "      <td>1</td>\n",
       "      <td>26.695</td>\n",
       "      <td>0</td>\n",
       "      <td>1</td>\n",
       "      <td>0</td>\n",
       "      <td>28101.33305</td>\n",
       "    </tr>\n",
       "    <tr>\n",
       "      <th>1328</th>\n",
       "      <td>23</td>\n",
       "      <td>0</td>\n",
       "      <td>24.225</td>\n",
       "      <td>2</td>\n",
       "      <td>0</td>\n",
       "      <td>0</td>\n",
       "      <td>22395.74424</td>\n",
       "    </tr>\n",
       "    <tr>\n",
       "      <th>1337</th>\n",
       "      <td>61</td>\n",
       "      <td>0</td>\n",
       "      <td>29.070</td>\n",
       "      <td>0</td>\n",
       "      <td>1</td>\n",
       "      <td>1</td>\n",
       "      <td>29141.36030</td>\n",
       "    </tr>\n",
       "  </tbody>\n",
       "</table>\n",
       "<p>183 rows × 7 columns</p>\n",
       "</div>"
      ],
      "text/plain": [
       "      age  sex     bmi  children  smoker  region      charges\n",
       "0      19    0  27.900         0       1       3  16884.92400\n",
       "3      33    1  22.705         0       0       1  21984.47061\n",
       "9      60    0  25.840         0       0       1  28923.13692\n",
       "11     62    0  26.290         0       1       2  27808.72510\n",
       "45     55    1  37.300         0       0       3  20630.28351\n",
       "...   ...  ...     ...       ...     ...     ...          ...\n",
       "1314   30    0  23.655         3       1       1  18765.87545\n",
       "1318   35    1  39.710         4       0       0  19496.71917\n",
       "1321   62    1  26.695         0       1       0  28101.33305\n",
       "1328   23    0  24.225         2       0       0  22395.74424\n",
       "1337   61    0  29.070         0       1       1  29141.36030\n",
       "\n",
       "[183 rows x 7 columns]"
      ]
     },
     "execution_count": 175,
     "metadata": {},
     "output_type": "execute_result"
    }
   ],
   "source": [
    "regionD_frame"
   ]
  },
  {
   "cell_type": "markdown",
   "id": "65213f05",
   "metadata": {},
   "source": [
    "### Group D seems to be the most interesting region cluster for now. No smokers yet they have the largest sample with a wide variety of ages. Also interesting the age cap is 45, when the overall highest is 64. "
   ]
  },
  {
   "cell_type": "markdown",
   "id": "6d795f43",
   "metadata": {},
   "source": [
    "## Age vs Charges Clustering"
   ]
  },
  {
   "cell_type": "code",
   "execution_count": 11,
   "id": "398936c2",
   "metadata": {},
   "outputs": [
    {
     "data": {
      "image/png": "[encoded data removed]",
      "text/plain": [
       "<Figure size 432x288 with 1 Axes>"
      ]
     },
     "metadata": {
      "needs_background": "light"
     },
     "output_type": "display_data"
    },
    {
     "data": {
      "text/plain": [
       "<Figure size 144x144 with 0 Axes>"
      ]
     },
     "metadata": {},
     "output_type": "display_data"
    }
   ],
   "source": [
    "age_charges = df[['age', 'charges']]\n",
    "\n",
    "gmm = GaussianMixture(n_components = 3)\n",
    "gmm.fit(age_charges)\n",
    "\n",
    "#predictions from gmm\n",
    "labels = gmm.predict(age_charges)\n",
    "frame = pd.DataFrame(age_charges)\n",
    "frame['cluster'] = labels\n",
    "frame.columns = ['age', 'charges', 'cluster']\n",
    "\n",
    "for k in range(0,3):\n",
    "    age_charges = frame[frame[\"cluster\"]==k]\n",
    "    plt.scatter(age_charges[\"age\"],age_charges[\"charges\"])\n",
    "plt.title('Age vs Charges', fontdict={'fontsize':22})\n",
    "plt.xlabel('Age', fontsize=16)\n",
    "plt.ylabel('Charges', fontsize=16)\n",
    "plt.figure(figsize=(2, 2))\n",
    "plt.show()"
   ]
  },
  {
   "cell_type": "code",
   "execution_count": 13,
   "id": "cb1362ff",
   "metadata": {},
   "outputs": [],
   "source": [
    "cluster_a = frame[frame['cluster'] == 0]\n",
    "cluster_b = frame[frame['cluster'] == 1]\n",
    "cluster_c = frame[frame['cluster'] == 2]"
   ]
  },
  {
   "cell_type": "code",
   "execution_count": 22,
   "id": "68086123",
   "metadata": {},
   "outputs": [
    {
     "name": "stdout",
     "output_type": "stream",
     "text": [
      "              age       charges  cluster\n",
      "count  214.000000    214.000000    214.0\n",
      "mean    38.406542  20845.700767      0.0\n",
      "std     13.859054   4777.502801      0.0\n",
      "min     18.000000   7323.734819      0.0\n",
      "25%     27.000000  17635.465682      0.0\n",
      "50%     38.500000  20358.734050      0.0\n",
      "75%     50.000000  24455.764483      0.0\n",
      "max     64.000000  31620.001060      0.0\n",
      "\n",
      "              age       charges  cluster\n",
      "count  159.000000    159.000000    159.0\n",
      "mean    39.056604  40841.123357      1.0\n",
      "std     14.368234   6295.432074      0.0\n",
      "min     18.000000  24059.680190      1.0\n",
      "25%     25.000000  36352.687150      1.0\n",
      "50%     39.000000  39983.425950      1.0\n",
      "75%     51.000000  44543.427035      1.0\n",
      "max     64.000000  63770.428010      1.0\n",
      "\n",
      "              age       charges  cluster\n",
      "count  965.000000    965.000000    965.0\n",
      "mean    39.409326   7047.778666      2.0\n",
      "std     14.047021   3870.496438      0.0\n",
      "min     18.000000   1121.873900      2.0\n",
      "25%     27.000000   3597.596000      2.0\n",
      "50%     40.000000   6686.431300      2.0\n",
      "75%     51.000000  10214.636000      2.0\n",
      "max     64.000000  16455.707850      2.0\n"
     ]
    }
   ],
   "source": [
    "print(cluster_a.describe(), end = '\\n\\n')\n",
    "print(cluster_b.describe(), end = '\\n\\n')\n",
    "print(cluster_c.describe())"
   ]
  },
  {
   "cell_type": "markdown",
   "id": "0dc76a7e",
   "metadata": {},
   "source": [
    "### All three clusters suprisingly have almost the same mean value of 39. So despite the variation in spread and variance, they're all centered around the same point."
   ]
  },
  {
   "cell_type": "markdown",
   "id": "279f6c76",
   "metadata": {},
   "source": [
    "## Age vs Bmi vs Charges Clustering"
   ]
  },
  {
   "cell_type": "code",
   "execution_count": 136,
   "id": "a79ebb17",
   "metadata": {},
   "outputs": [],
   "source": [
    "age_bmi = df[['age', 'bmi', 'charges']]"
   ]
  },
  {
   "cell_type": "code",
   "execution_count": 137,
   "id": "1e85abfa",
   "metadata": {},
   "outputs": [],
   "source": [
    "gmm = GaussianMixture(n_components=6)\n",
    "gmm.fit(age_bmi)\n",
    "\n",
    "#predictions from gmm\n",
    "labels = gmm.predict(age_bmi)\n",
    "frame = pd.DataFrame(age_bmi)\n",
    "frame['cluster'] = labels\n",
    "frame.columns = ['age', 'bmi', 'charges', 'cluster']"
   ]
  },
  {
   "cell_type": "code",
   "execution_count": 140,
   "id": "a8532f53",
   "metadata": {},
   "outputs": [
    {
     "data": {
      "image/png": "[encoded data removed]",
      "text/plain": [
       "<Figure size 432x288 with 1 Axes>"
      ]
     },
     "metadata": {
      "needs_background": "light"
     },
     "output_type": "display_data"
    }
   ],
   "source": [
    "fig = plt.figure()\n",
    "ax = fig.add_subplot(projection='3d')\n",
    "\n",
    "for k in range(0,6):\n",
    "    age_bmi = frame[frame[\"cluster\"]==k]\n",
    "    ax.scatter(age_bmi[\"age\"],age_bmi[\"bmi\"], age_bmi['charges'])\n",
    "    \n",
    "ax.set_title('Age vs BMI vs Charges', fontdict={'fontsize':22})\n",
    "ax.set_xlabel('Age', fontsize=16)\n",
    "ax.set_ylabel('BMI', fontsize=16)\n",
    "ax.set_zlabel('Charges', fontsize = 16)\n",
    "plt.show()"
   ]
  },
  {
   "cell_type": "code",
   "execution_count": 141,
   "id": "a859c739",
   "metadata": {},
   "outputs": [
    {
     "data": {
      "text/plain": [
       "matplotlib.axes._subplots.Axes3DSubplot"
      ]
     },
     "execution_count": 141,
     "metadata": {},
     "output_type": "execute_result"
    }
   ],
   "source": [
    "type(ax)"
   ]
  },
  {
   "cell_type": "code",
   "execution_count": 32,
   "id": "291b455d",
   "metadata": {},
   "outputs": [
    {
     "data": {
      "text/html": [
       "<div>\n",
       "<style scoped>\n",
       "    .dataframe tbody tr th:only-of-type {\n",
       "        vertical-align: middle;\n",
       "    }\n",
       "\n",
       "    .dataframe tbody tr th {\n",
       "        vertical-align: top;\n",
       "    }\n",
       "\n",
       "    .dataframe thead th {\n",
       "        text-align: right;\n",
       "    }\n",
       "</style>\n",
       "<table border=\"1\" class=\"dataframe\">\n",
       "  <thead>\n",
       "    <tr style=\"text-align: right;\">\n",
       "      <th></th>\n",
       "      <th>age</th>\n",
       "      <th>sex</th>\n",
       "      <th>bmi</th>\n",
       "      <th>children</th>\n",
       "      <th>smoker</th>\n",
       "      <th>region</th>\n",
       "      <th>charges</th>\n",
       "      <th>cluster</th>\n",
       "    </tr>\n",
       "  </thead>\n",
       "  <tbody>\n",
       "    <tr>\n",
       "      <th>4</th>\n",
       "      <td>32</td>\n",
       "      <td>1</td>\n",
       "      <td>28.88</td>\n",
       "      <td>0</td>\n",
       "      <td>0</td>\n",
       "      <td>1</td>\n",
       "      <td>3866.8552</td>\n",
       "      <td>0</td>\n",
       "    </tr>\n",
       "    <tr>\n",
       "      <th>5</th>\n",
       "      <td>31</td>\n",
       "      <td>0</td>\n",
       "      <td>25.74</td>\n",
       "      <td>0</td>\n",
       "      <td>0</td>\n",
       "      <td>2</td>\n",
       "      <td>3756.6216</td>\n",
       "      <td>0</td>\n",
       "    </tr>\n",
       "    <tr>\n",
       "      <th>6</th>\n",
       "      <td>46</td>\n",
       "      <td>0</td>\n",
       "      <td>33.44</td>\n",
       "      <td>1</td>\n",
       "      <td>0</td>\n",
       "      <td>2</td>\n",
       "      <td>8240.5896</td>\n",
       "      <td>0</td>\n",
       "    </tr>\n",
       "  </tbody>\n",
       "</table>\n",
       "</div>"
      ],
      "text/plain": [
       "   age  sex    bmi  children  smoker  region    charges  cluster\n",
       "4   32    1  28.88         0       0       1  3866.8552        0\n",
       "5   31    0  25.74         0       0       2  3756.6216        0\n",
       "6   46    0  33.44         1       0       2  8240.5896        0"
      ]
     },
     "execution_count": 32,
     "metadata": {},
     "output_type": "execute_result"
    }
   ],
   "source": [
    "df.loc[:][4:7]"
   ]
  },
  {
   "cell_type": "code",
   "execution_count": 34,
   "id": "2fc755a4",
   "metadata": {},
   "outputs": [
    {
     "data": {
      "text/html": [
       "<div>\n",
       "<style scoped>\n",
       "    .dataframe tbody tr th:only-of-type {\n",
       "        vertical-align: middle;\n",
       "    }\n",
       "\n",
       "    .dataframe tbody tr th {\n",
       "        vertical-align: top;\n",
       "    }\n",
       "\n",
       "    .dataframe thead th {\n",
       "        text-align: right;\n",
       "    }\n",
       "</style>\n",
       "<table border=\"1\" class=\"dataframe\">\n",
       "  <thead>\n",
       "    <tr style=\"text-align: right;\">\n",
       "      <th></th>\n",
       "      <th>age</th>\n",
       "      <th>bmi</th>\n",
       "      <th>charges</th>\n",
       "    </tr>\n",
       "  </thead>\n",
       "  <tbody>\n",
       "    <tr>\n",
       "      <th>0</th>\n",
       "      <td>19</td>\n",
       "      <td>27.900</td>\n",
       "      <td>16884.92400</td>\n",
       "    </tr>\n",
       "    <tr>\n",
       "      <th>1</th>\n",
       "      <td>18</td>\n",
       "      <td>33.770</td>\n",
       "      <td>1725.55230</td>\n",
       "    </tr>\n",
       "    <tr>\n",
       "      <th>2</th>\n",
       "      <td>28</td>\n",
       "      <td>33.000</td>\n",
       "      <td>4449.46200</td>\n",
       "    </tr>\n",
       "    <tr>\n",
       "      <th>3</th>\n",
       "      <td>33</td>\n",
       "      <td>22.705</td>\n",
       "      <td>21984.47061</td>\n",
       "    </tr>\n",
       "    <tr>\n",
       "      <th>4</th>\n",
       "      <td>32</td>\n",
       "      <td>28.880</td>\n",
       "      <td>3866.85520</td>\n",
       "    </tr>\n",
       "    <tr>\n",
       "      <th>...</th>\n",
       "      <td>...</td>\n",
       "      <td>...</td>\n",
       "      <td>...</td>\n",
       "    </tr>\n",
       "    <tr>\n",
       "      <th>1333</th>\n",
       "      <td>50</td>\n",
       "      <td>30.970</td>\n",
       "      <td>10600.54830</td>\n",
       "    </tr>\n",
       "    <tr>\n",
       "      <th>1334</th>\n",
       "      <td>18</td>\n",
       "      <td>31.920</td>\n",
       "      <td>2205.98080</td>\n",
       "    </tr>\n",
       "    <tr>\n",
       "      <th>1335</th>\n",
       "      <td>18</td>\n",
       "      <td>36.850</td>\n",
       "      <td>1629.83350</td>\n",
       "    </tr>\n",
       "    <tr>\n",
       "      <th>1336</th>\n",
       "      <td>21</td>\n",
       "      <td>25.800</td>\n",
       "      <td>2007.94500</td>\n",
       "    </tr>\n",
       "    <tr>\n",
       "      <th>1337</th>\n",
       "      <td>61</td>\n",
       "      <td>29.070</td>\n",
       "      <td>29141.36030</td>\n",
       "    </tr>\n",
       "  </tbody>\n",
       "</table>\n",
       "<p>1338 rows × 3 columns</p>\n",
       "</div>"
      ],
      "text/plain": [
       "      age     bmi      charges\n",
       "0      19  27.900  16884.92400\n",
       "1      18  33.770   1725.55230\n",
       "2      28  33.000   4449.46200\n",
       "3      33  22.705  21984.47061\n",
       "4      32  28.880   3866.85520\n",
       "...   ...     ...          ...\n",
       "1333   50  30.970  10600.54830\n",
       "1334   18  31.920   2205.98080\n",
       "1335   18  36.850   1629.83350\n",
       "1336   21  25.800   2007.94500\n",
       "1337   61  29.070  29141.36030\n",
       "\n",
       "[1338 rows x 3 columns]"
      ]
     },
     "execution_count": 34,
     "metadata": {},
     "output_type": "execute_result"
    }
   ],
   "source": [
    "df[['age', 'bmi', 'charges']]"
   ]
  },
  {
   "cell_type": "code",
   "execution_count": null,
   "id": "6f735739",
   "metadata": {},
   "outputs": [],
   "source": []
  }
 ],
 "metadata": {
  "kernelspec": {
   "display_name": "Python 3 (ipykernel)",
   "language": "python",
   "name": "python3"
  },
  "language_info": {
   "codemirror_mode": {
    "name": "ipython",
    "version": 3
   },
   "file_extension": ".py",
   "mimetype": "text/x-python",
   "name": "python",
   "nbconvert_exporter": "python",
   "pygments_lexer": "ipython3",
   "version": "3.9.7"
  }
 },
 "nbformat": 4,
 "nbformat_minor": 5
}
